{
 "cells": [
  {
   "cell_type": "markdown",
   "metadata": {},
   "source": [
    "# Demo 5: Collaborative Filtering and Comedy! \n",
    "------\n",
    "<img src=\"images/seinfeld.jpg\" width=\"400\" height=\"400\">\n",
    "\n",
    "#### Real Dataset: http://eigentaste.berkeley.edu/dataset/ Dataset 2 \n",
    "#### Rate Jokes: http://eigentaste.berkeley.edu"
   ]
  },
  {
   "cell_type": "markdown",
   "metadata": {},
   "source": [
    "## What are we trying to learn from this dataset?\n",
    "\n",
    "# QUESTION:  Can Collaborative Filtering be used to find which jokes to recommend to our users?\n"
   ]
  },
  {
   "cell_type": "code",
   "execution_count": 1,
   "metadata": {},
   "outputs": [],
   "source": [
    "%matplotlib inline\n",
    "import matplotlib.pyplot as plt"
   ]
  },
  {
   "cell_type": "code",
   "execution_count": 2,
   "metadata": {},
   "outputs": [],
   "source": [
    "import pandas\n",
    "import cassandra\n",
    "import pyspark\n",
    "import re\n",
    "import os\n",
    "import matplotlib.pyplot as plt\n",
    "from IPython.display import IFrame\n",
    "from IPython.display import display, Markdown\n",
    "from pyspark.sql import SparkSession\n",
    "from pyspark.ml.evaluation import RegressionEvaluator\n",
    "from pyspark.ml.recommendation import ALS\n",
    "from pyspark.sql import Row"
   ]
  },
  {
   "cell_type": "markdown",
   "metadata": {},
   "source": [
    "#### Helper function to have nicer formatting of Spark DataFrames"
   ]
  },
  {
   "cell_type": "code",
   "execution_count": 3,
   "metadata": {},
   "outputs": [],
   "source": [
    "#Helper for pretty formatting for Spark DataFrames\n",
    "def showDF(df, limitRows =  10, truncate = False):\n",
    "    if(truncate):\n",
    "        pandas.set_option('display.max_colwidth', 100)\n",
    "    else:\n",
    "        pandas.set_option('display.max_colwidth', -1)\n",
    "    pandas.set_option('display.max_rows', limitRows)\n",
    "    display(df.limit(limitRows).toPandas())\n",
    "    pandas.reset_option('display.max_rows')"
   ]
  },
  {
   "cell_type": "markdown",
   "metadata": {},
   "source": [
    "# DataStax Enterprise Analytics\n",
    "<img src=\"images/dselogo.png\" width=\"400\" height=\"200\">"
   ]
  },
  {
   "cell_type": "markdown",
   "metadata": {},
   "source": [
    "## Creating Tables and Loading Tables"
   ]
  },
  {
   "cell_type": "markdown",
   "metadata": {},
   "source": [
    "### Connect to DSE Analytics Cluster"
   ]
  },
  {
   "cell_type": "code",
   "execution_count": 4,
   "metadata": {},
   "outputs": [],
   "source": [
    "from cassandra.cluster import Cluster\n",
    "\n",
    "cluster = Cluster(['127.0.01'])\n",
    "session = cluster.connect()"
   ]
  },
  {
   "cell_type": "markdown",
   "metadata": {},
   "source": [
    "### Create Demo Keyspace "
   ]
  },
  {
   "cell_type": "code",
   "execution_count": 5,
   "metadata": {},
   "outputs": [
    {
     "data": {
      "text/plain": [
       "<cassandra.cluster.ResultSet at 0x10c10cf98>"
      ]
     },
     "execution_count": 5,
     "metadata": {},
     "output_type": "execute_result"
    }
   ],
   "source": [
    "session.execute(\"\"\"\n",
    "    CREATE KEYSPACE IF NOT EXISTS accelerate \n",
    "    WITH REPLICATION = \n",
    "    { 'class' : 'SimpleStrategy', 'replication_factor' : 1 }\"\"\"\n",
    ")"
   ]
  },
  {
   "cell_type": "markdown",
   "metadata": {},
   "source": [
    "### Set keyspace "
   ]
  },
  {
   "cell_type": "code",
   "execution_count": 6,
   "metadata": {},
   "outputs": [],
   "source": [
    "session.set_keyspace('accelerate')"
   ]
  },
  {
   "cell_type": "markdown",
   "metadata": {},
   "source": [
    "### Create table called jokes. Our PRIMARY will need to be a unique composite key (userid, jokeid). This will result in an even distribution of the data and allow for each row to be unique. Remember we will have to utilize that PRIMARY KEY in our WHERE clause in any of our CQL queries. "
   ]
  },
  {
   "cell_type": "code",
   "execution_count": 7,
   "metadata": {},
   "outputs": [
    {
     "data": {
      "text/plain": [
       "<cassandra.cluster.ResultSet at 0x10befaa20>"
      ]
     },
     "execution_count": 7,
     "metadata": {},
     "output_type": "execute_result"
    }
   ],
   "source": [
    "query = \"CREATE TABLE IF NOT EXISTS jokes \\\n",
    "                                    (userid int, jokeid int, rating float, \\\n",
    "                                     PRIMARY KEY (userid, jokeid))\"\n",
    "session.execute(query)"
   ]
  },
  {
   "cell_type": "markdown",
   "metadata": {},
   "source": [
    "### What do these of these 3 columns represent: \n",
    "\n",
    "* **Column 1**: User id\n",
    "* **Column 2**: Joke id\n",
    "* **Column 3**: Rating of joke (-10.00 - 10.00) "
   ]
  },
  {
   "cell_type": "markdown",
   "metadata": {},
   "source": [
    "### Load Jokes dataset from CSV file (jester_ratings3.csv)\n",
    "* This is a file I created from the *.dat file and I only have 10,000 rows -- dataset has over 1 million rows\n",
    "<img src=\"images/laughing.gif\" width=\"300\" height=\"300\">\n",
    "\n",
    "#### Insert all the Joke Rating Data into the DSE table `jokes`"
   ]
  },
  {
   "cell_type": "code",
   "execution_count": 8,
   "metadata": {},
   "outputs": [],
   "source": [
    "fileName = 'data/jester_ratings3.csv'\n",
    "input_file = open(fileName, 'r')\n",
    "\n",
    "for line in input_file:\n",
    "    jokeRow = line.split(',')\n",
    "    query = \"INSERT INTO jokes (userid, jokeid, rating)\"\n",
    "    \n",
    "    query = query + \"VALUES (%s, %s, %s)\"\n",
    "    \n",
    "    session.execute(query, (int(jokeRow[0]), int(jokeRow[1]) , float(jokeRow[2]) ))"
   ]
  },
  {
   "cell_type": "markdown",
   "metadata": {},
   "source": [
    "#### Do a select * on joke_table WHERE userid = x to verify that data was loaded into the table"
   ]
  },
  {
   "cell_type": "code",
   "execution_count": 9,
   "metadata": {
    "scrolled": true
   },
   "outputs": [
    {
     "name": "stdout",
     "output_type": "stream",
     "text": [
      "100 5 -0.875\n",
      "100 7 9.906000137329102\n",
      "100 8 -0.843999981880188\n",
      "100 13 8.937999725341797\n",
      "100 15 -0.968999981880188\n",
      "100 16 -9.75\n",
      "100 17 9.593999862670898\n"
     ]
    }
   ],
   "source": [
    "query = 'SELECT * FROM jokes WHERE userid = 100'\n",
    "rows = session.execute(query)\n",
    "for row in rows:\n",
    "    print (row.userid, row.jokeid, row.rating)"
   ]
  },
  {
   "cell_type": "markdown",
   "metadata": {},
   "source": [
    "## Machine Learning with DSE Analytics and Apache Spark\n",
    "<img src=\"images/sparklogo.png\" width=\"150\" height=\"200\">"
   ]
  },
  {
   "cell_type": "markdown",
   "metadata": {},
   "source": [
    "### Finally time for Apache Spark! "
   ]
  },
  {
   "cell_type": "markdown",
   "metadata": {},
   "source": [
    "#### Create a spark session that is connected to DSE. From there load each table into a Spark Dataframe and take a count of the number of rows in each."
   ]
  },
  {
   "cell_type": "code",
   "execution_count": 16,
   "metadata": {},
   "outputs": [
    {
     "name": "stdout",
     "output_type": "stream",
     "text": [
      "Table Row Count: \n",
      "10000\n"
     ]
    }
   ],
   "source": [
    "spark = SparkSession.builder.appName('demo').master(\"local\").getOrCreate()\n",
    "\n",
    "jokeTable = spark.read.format(\"org.apache.spark.sql.cassandra\").options(table=\"jokes\", keyspace=\"accelerate\").load()\n",
    "\n",
    "print (\"Table Row Count: \")\n",
    "print (jokeTable.count())"
   ]
  },
  {
   "cell_type": "markdown",
   "metadata": {},
   "source": [
    "#### CFilter with PySpark requires that the ratings not be double/foat but int"
   ]
  },
  {
   "cell_type": "code",
   "execution_count": 14,
   "metadata": {},
   "outputs": [],
   "source": [
    "#joke_df = jokeTable.withColumn(\"rating\", jokeTable.rating.cast('int'))"
   ]
  },
  {
   "cell_type": "markdown",
   "metadata": {},
   "source": [
    "#### Split dataset into training and testing set "
   ]
  },
  {
   "cell_type": "code",
   "execution_count": 17,
   "metadata": {},
   "outputs": [
    {
     "data": {
      "text/html": [
       "<div>\n",
       "<style scoped>\n",
       "    .dataframe tbody tr th:only-of-type {\n",
       "        vertical-align: middle;\n",
       "    }\n",
       "\n",
       "    .dataframe tbody tr th {\n",
       "        vertical-align: top;\n",
       "    }\n",
       "\n",
       "    .dataframe thead th {\n",
       "        text-align: right;\n",
       "    }\n",
       "</style>\n",
       "<table border=\"1\" class=\"dataframe\">\n",
       "  <thead>\n",
       "    <tr style=\"text-align: right;\">\n",
       "      <th></th>\n",
       "      <th>userid</th>\n",
       "      <th>jokeid</th>\n",
       "      <th>rating</th>\n",
       "    </tr>\n",
       "  </thead>\n",
       "  <tbody>\n",
       "    <tr>\n",
       "      <th>0</th>\n",
       "      <td>3</td>\n",
       "      <td>5</td>\n",
       "      <td>-9</td>\n",
       "    </tr>\n",
       "    <tr>\n",
       "      <th>1</th>\n",
       "      <td>3</td>\n",
       "      <td>7</td>\n",
       "      <td>-9</td>\n",
       "    </tr>\n",
       "    <tr>\n",
       "      <th>2</th>\n",
       "      <td>3</td>\n",
       "      <td>8</td>\n",
       "      <td>-7</td>\n",
       "    </tr>\n",
       "    <tr>\n",
       "      <th>3</th>\n",
       "      <td>3</td>\n",
       "      <td>13</td>\n",
       "      <td>-2</td>\n",
       "    </tr>\n",
       "    <tr>\n",
       "      <th>4</th>\n",
       "      <td>3</td>\n",
       "      <td>15</td>\n",
       "      <td>-9</td>\n",
       "    </tr>\n",
       "    <tr>\n",
       "      <th>5</th>\n",
       "      <td>3</td>\n",
       "      <td>16</td>\n",
       "      <td>-9</td>\n",
       "    </tr>\n",
       "    <tr>\n",
       "      <th>6</th>\n",
       "      <td>3</td>\n",
       "      <td>17</td>\n",
       "      <td>-9</td>\n",
       "    </tr>\n",
       "    <tr>\n",
       "      <th>7</th>\n",
       "      <td>3</td>\n",
       "      <td>18</td>\n",
       "      <td>-9</td>\n",
       "    </tr>\n",
       "    <tr>\n",
       "      <th>8</th>\n",
       "      <td>3</td>\n",
       "      <td>20</td>\n",
       "      <td>-6</td>\n",
       "    </tr>\n",
       "    <tr>\n",
       "      <th>9</th>\n",
       "      <td>3</td>\n",
       "      <td>33</td>\n",
       "      <td>-9</td>\n",
       "    </tr>\n",
       "  </tbody>\n",
       "</table>\n",
       "</div>"
      ],
      "text/plain": [
       "   userid  jokeid  rating\n",
       "0  3       5      -9     \n",
       "1  3       7      -9     \n",
       "2  3       8      -7     \n",
       "3  3       13     -2     \n",
       "4  3       15     -9     \n",
       "5  3       16     -9     \n",
       "6  3       17     -9     \n",
       "7  3       18     -9     \n",
       "8  3       20     -6     \n",
       "9  3       33     -9     "
      ]
     },
     "metadata": {},
     "output_type": "display_data"
    }
   ],
   "source": [
    "(training, test) = jokeTable.randomSplit([0.8, 0.2])\n",
    "\n",
    "training_df = training.withColumn(\"rating\", training.rating.cast('int'))\n",
    "testing_df = test.withColumn(\"rating\", test.rating.cast('int'))\n",
    "\n",
    "showDF(training_df)"
   ]
  },
  {
   "cell_type": "markdown",
   "metadata": {},
   "source": [
    "### Setup for CFliter with ALS\n",
    "\n",
    "https://spark.apache.org/docs/latest/ml-collaborative-filtering.html"
   ]
  },
  {
   "cell_type": "code",
   "execution_count": 37,
   "metadata": {},
   "outputs": [],
   "source": [
    "als = ALS(maxIter=5, regParam=0.01, userCol=\"userid\", itemCol=\"jokeid\", ratingCol=\"rating\",\n",
    "          coldStartStrategy=\"drop\")\n",
    "\n",
    "model = als.fit(training_df)"
   ]
  },
  {
   "cell_type": "code",
   "execution_count": 38,
   "metadata": {},
   "outputs": [
    {
     "data": {
      "text/html": [
       "<div>\n",
       "<style scoped>\n",
       "    .dataframe tbody tr th:only-of-type {\n",
       "        vertical-align: middle;\n",
       "    }\n",
       "\n",
       "    .dataframe tbody tr th {\n",
       "        vertical-align: top;\n",
       "    }\n",
       "\n",
       "    .dataframe thead th {\n",
       "        text-align: right;\n",
       "    }\n",
       "</style>\n",
       "<table border=\"1\" class=\"dataframe\">\n",
       "  <thead>\n",
       "    <tr style=\"text-align: right;\">\n",
       "      <th></th>\n",
       "      <th>userid</th>\n",
       "      <th>recommendations</th>\n",
       "    </tr>\n",
       "  </thead>\n",
       "  <tbody>\n",
       "    <tr>\n",
       "      <th>0</th>\n",
       "      <td>148</td>\n",
       "      <td>[(34, 35.08817672729492), (21, 34.19489288330078), (75, 33.810821533203125), (44, 31.955120086669922), (22, 31.689788818359375), (81, 29.63794708251953), (83, 29.347204208374023), (46, 28.51775360107422), (69, 28.306196212768555), (26, 27.55040168762207)]</td>\n",
       "    </tr>\n",
       "    <tr>\n",
       "      <th>1</th>\n",
       "      <td>243</td>\n",
       "      <td>[(138, 33.15718078613281), (71, 31.30754852294922), (108, 31.254772186279297), (115, 22.185895919799805), (29, 18.956073760986328), (146, 18.66478729248047), (102, 18.170202255249023), (109, 16.25419044494629), (100, 15.723347663879395), (58, 15.562417984008789)]</td>\n",
       "    </tr>\n",
       "    <tr>\n",
       "      <th>2</th>\n",
       "      <td>251</td>\n",
       "      <td>[(140, 9.199028968811035), (131, 6.886463642120361), (134, 6.8544230461120605), (55, 5.513618469238281), (141, 4.701805114746094), (95, 4.5161333084106445), (73, 3.2440133094787598), (120, 3.053881883621216), (136, 2.061122417449951), (121, 1.7894281148910522)]</td>\n",
       "    </tr>\n",
       "    <tr>\n",
       "      <th>3</th>\n",
       "      <td>85</td>\n",
       "      <td>[(122, 52.7970085144043), (55, 49.56493377685547), (23, 46.22010803222656), (69, 45.096397399902344), (116, 42.8684196472168), (140, 41.300758361816406), (150, 40.065032958984375), (127, 38.06189727783203), (135, 37.141693115234375), (123, 33.308258056640625)]</td>\n",
       "    </tr>\n",
       "    <tr>\n",
       "      <th>4</th>\n",
       "      <td>137</td>\n",
       "      <td>[(79, 9.588911056518555), (8, 8.9959077835083), (7, 8.994061470031738), (43, 8.694997787475586), (37, 7.821763515472412), (33, 7.328368663787842), (44, 7.179834842681885), (19, 7.006222724914551), (150, 6.709961414337158), (90, 6.506020545959473)]</td>\n",
       "    </tr>\n",
       "    <tr>\n",
       "      <th>5</th>\n",
       "      <td>65</td>\n",
       "      <td>[(67, 12.088887214660645), (79, 11.402899742126465), (57, 11.215535163879395), (26, 11.186339378356934), (99, 11.089591026306152), (64, 11.010234832763672), (37, 10.994126319885254), (109, 10.851428985595703), (70, 10.816305160522461), (60, 10.763251304626465)]</td>\n",
       "    </tr>\n",
       "    <tr>\n",
       "      <th>6</th>\n",
       "      <td>53</td>\n",
       "      <td>[(119, 9.582527160644531), (22, 8.826216697692871), (120, 8.013260841369629), (46, 7.997888565063477), (88, 7.4543375968933105), (95, 7.428121089935303), (121, 7.256031036376953), (34, 7.093655586242676), (110, 6.919713973999023), (61, 6.851659297943115)]</td>\n",
       "    </tr>\n",
       "    <tr>\n",
       "      <th>7</th>\n",
       "      <td>133</td>\n",
       "      <td>[(88, 16.776498794555664), (87, 16.547439575195312), (119, 13.981500625610352), (118, 13.888110160827637), (134, 13.26351547241211), (111, 12.899371147155762), (110, 12.737327575683594), (120, 12.610612869262695), (48, 12.012154579162598), (37, 11.976896286010742)]</td>\n",
       "    </tr>\n",
       "    <tr>\n",
       "      <th>8</th>\n",
       "      <td>155</td>\n",
       "      <td>[(124, 40.037967681884766), (141, 37.646480560302734), (87, 29.346630096435547), (40, 23.134788513183594), (63, 18.293651580810547), (52, 14.018779754638672), (103, 12.339641571044922), (48, 10.631392478942871), (19, 9.859904289245605), (43, 9.416757583618164)]</td>\n",
       "    </tr>\n",
       "    <tr>\n",
       "      <th>9</th>\n",
       "      <td>108</td>\n",
       "      <td>[(58, 30.053936004638672), (130, 16.35774040222168), (114, 15.775555610656738), (121, 15.666524887084961), (33, 15.50494384765625), (25, 15.418022155761719), (113, 14.965984344482422), (37, 14.093564987182617), (141, 12.774852752685547), (107, 12.492015838623047)]</td>\n",
       "    </tr>\n",
       "  </tbody>\n",
       "</table>\n",
       "</div>"
      ],
      "text/plain": [
       "   userid  \\\n",
       "0  148      \n",
       "1  243      \n",
       "2  251      \n",
       "3  85       \n",
       "4  137      \n",
       "5  65       \n",
       "6  53       \n",
       "7  133      \n",
       "8  155      \n",
       "9  108      \n",
       "\n",
       "                                                                                                                                                                                                                                                             recommendations  \n",
       "0  [(34, 35.08817672729492), (21, 34.19489288330078), (75, 33.810821533203125), (44, 31.955120086669922), (22, 31.689788818359375), (81, 29.63794708251953), (83, 29.347204208374023), (46, 28.51775360107422), (69, 28.306196212768555), (26, 27.55040168762207)]            \n",
       "1  [(138, 33.15718078613281), (71, 31.30754852294922), (108, 31.254772186279297), (115, 22.185895919799805), (29, 18.956073760986328), (146, 18.66478729248047), (102, 18.170202255249023), (109, 16.25419044494629), (100, 15.723347663879395), (58, 15.562417984008789)]    \n",
       "2  [(140, 9.199028968811035), (131, 6.886463642120361), (134, 6.8544230461120605), (55, 5.513618469238281), (141, 4.701805114746094), (95, 4.5161333084106445), (73, 3.2440133094787598), (120, 3.053881883621216), (136, 2.061122417449951), (121, 1.7894281148910522)]      \n",
       "3  [(122, 52.7970085144043), (55, 49.56493377685547), (23, 46.22010803222656), (69, 45.096397399902344), (116, 42.8684196472168), (140, 41.300758361816406), (150, 40.065032958984375), (127, 38.06189727783203), (135, 37.141693115234375), (123, 33.308258056640625)]       \n",
       "4  [(79, 9.588911056518555), (8, 8.9959077835083), (7, 8.994061470031738), (43, 8.694997787475586), (37, 7.821763515472412), (33, 7.328368663787842), (44, 7.179834842681885), (19, 7.006222724914551), (150, 6.709961414337158), (90, 6.506020545959473)]                    \n",
       "5  [(67, 12.088887214660645), (79, 11.402899742126465), (57, 11.215535163879395), (26, 11.186339378356934), (99, 11.089591026306152), (64, 11.010234832763672), (37, 10.994126319885254), (109, 10.851428985595703), (70, 10.816305160522461), (60, 10.763251304626465)]      \n",
       "6  [(119, 9.582527160644531), (22, 8.826216697692871), (120, 8.013260841369629), (46, 7.997888565063477), (88, 7.4543375968933105), (95, 7.428121089935303), (121, 7.256031036376953), (34, 7.093655586242676), (110, 6.919713973999023), (61, 6.851659297943115)]            \n",
       "7  [(88, 16.776498794555664), (87, 16.547439575195312), (119, 13.981500625610352), (118, 13.888110160827637), (134, 13.26351547241211), (111, 12.899371147155762), (110, 12.737327575683594), (120, 12.610612869262695), (48, 12.012154579162598), (37, 11.976896286010742)]  \n",
       "8  [(124, 40.037967681884766), (141, 37.646480560302734), (87, 29.346630096435547), (40, 23.134788513183594), (63, 18.293651580810547), (52, 14.018779754638672), (103, 12.339641571044922), (48, 10.631392478942871), (19, 9.859904289245605), (43, 9.416757583618164)]      \n",
       "9  [(58, 30.053936004638672), (130, 16.35774040222168), (114, 15.775555610656738), (121, 15.666524887084961), (33, 15.50494384765625), (25, 15.418022155761719), (113, 14.965984344482422), (37, 14.093564987182617), (141, 12.774852752685547), (107, 12.492015838623047)]   "
      ]
     },
     "metadata": {},
     "output_type": "display_data"
    }
   ],
   "source": [
    "# Evaluate the model by computing the RMSE on the test data\n",
    "predictions = model.transform(testing_df)\n",
    "\n",
    "# Generate top 10 joke recommendations for each user\n",
    "userRecs = model.recommendForAllUsers(10)\n",
    "\n",
    "showDF(userRecs)\n",
    "\n",
    "# Generate top 10 user recommendations for each joke\n",
    "jokeRecs = model.recommendForAllItems(10)"
   ]
  },
  {
   "cell_type": "code",
   "execution_count": 39,
   "metadata": {},
   "outputs": [
    {
     "data": {
      "text/html": [
       "<div>\n",
       "<style scoped>\n",
       "    .dataframe tbody tr th:only-of-type {\n",
       "        vertical-align: middle;\n",
       "    }\n",
       "\n",
       "    .dataframe tbody tr th {\n",
       "        vertical-align: top;\n",
       "    }\n",
       "\n",
       "    .dataframe thead th {\n",
       "        text-align: right;\n",
       "    }\n",
       "</style>\n",
       "<table border=\"1\" class=\"dataframe\">\n",
       "  <thead>\n",
       "    <tr style=\"text-align: right;\">\n",
       "      <th></th>\n",
       "      <th>userid</th>\n",
       "      <th>recommendations</th>\n",
       "    </tr>\n",
       "  </thead>\n",
       "  <tbody>\n",
       "    <tr>\n",
       "      <th>0</th>\n",
       "      <td>65</td>\n",
       "      <td>[(67, 12.088887214660645), (79, 11.402899742126465), (57, 11.215535163879395), (26, 11.186339378356934), (99, 11.089591026306152), (64, 11.010234832763672), (37, 10.994126319885254), (109, 10.851428985595703), (70, 10.816305160522461), (60, 10.763251304626465)]</td>\n",
       "    </tr>\n",
       "  </tbody>\n",
       "</table>\n",
       "</div>"
      ],
      "text/plain": [
       "   userid  \\\n",
       "0  65       \n",
       "\n",
       "                                                                                                                                                                                                                                                         recommendations  \n",
       "0  [(67, 12.088887214660645), (79, 11.402899742126465), (57, 11.215535163879395), (26, 11.186339378356934), (99, 11.089591026306152), (64, 11.010234832763672), (37, 10.994126319885254), (109, 10.851428985595703), (70, 10.816305160522461), (60, 10.763251304626465)]  "
      ]
     },
     "metadata": {},
     "output_type": "display_data"
    }
   ],
   "source": [
    "showDF(userRecs.filter(userRecs.userid == 65))"
   ]
  },
  {
   "cell_type": "code",
   "execution_count": 29,
   "metadata": {},
   "outputs": [
    {
     "data": {
      "text/html": [
       "\n",
       "        <iframe\n",
       "            width=\"700\"\n",
       "            height=\"200\"\n",
       "            src=\"images/init94.html\"\n",
       "            frameborder=\"0\"\n",
       "            allowfullscreen\n",
       "        ></iframe>\n",
       "        "
      ],
      "text/plain": [
       "<IPython.lib.display.IFrame at 0x10e9415c0>"
      ]
     },
     "execution_count": 29,
     "metadata": {},
     "output_type": "execute_result"
    }
   ],
   "source": [
    "IFrame(src='images/init94.html', width=700, height=200)"
   ]
  },
  {
   "cell_type": "code",
   "execution_count": 30,
   "metadata": {},
   "outputs": [
    {
     "data": {
      "text/html": [
       "\n",
       "        <iframe\n",
       "            width=\"700\"\n",
       "            height=\"200\"\n",
       "            src=\"images/init43.html\"\n",
       "            frameborder=\"0\"\n",
       "            allowfullscreen\n",
       "        ></iframe>\n",
       "        "
      ],
      "text/plain": [
       "<IPython.lib.display.IFrame at 0x10e941978>"
      ]
     },
     "execution_count": 30,
     "metadata": {},
     "output_type": "execute_result"
    }
   ],
   "source": [
    "IFrame(src='images/init43.html', width=700, height=200)"
   ]
  },
  {
   "cell_type": "code",
   "execution_count": null,
   "metadata": {},
   "outputs": [],
   "source": [
    "session.execute(\"\"\"drop table jokes\"\"\")"
   ]
  }
 ],
 "metadata": {
  "kernelspec": {
   "display_name": "Python 3",
   "language": "python",
   "name": "python3"
  },
  "language_info": {
   "codemirror_mode": {
    "name": "ipython",
    "version": 3
   },
   "file_extension": ".py",
   "mimetype": "text/x-python",
   "name": "python",
   "nbconvert_exporter": "python",
   "pygments_lexer": "ipython3",
   "version": "3.7.0"
  }
 },
 "nbformat": 4,
 "nbformat_minor": 2
}
