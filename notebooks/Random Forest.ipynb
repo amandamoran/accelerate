{
 "cells": [
  {
   "cell_type": "markdown",
   "metadata": {},
   "source": [
    "# Demo 3: Random Forest and DataStax Analytics\n",
    "------\n",
    "<img src=\"images/drinkWine.jpeg\" width=\"300\" height=\"500\">\n",
    "\n",
    "\n",
    "#### Dataset: https://archive.ics.uci.edu/ml/datasets/Wine+Quality"
   ]
  },
  {
   "cell_type": "markdown",
   "metadata": {},
   "source": [
    "## What are we trying to learn from this dataset? \n",
    "\n",
    "# QUESTION: Can Random Forest be used to classify a wine’s rating score by its attributes?"
   ]
  },
  {
   "cell_type": "code",
   "execution_count": 1,
   "metadata": {},
   "outputs": [],
   "source": [
    "%matplotlib inline\n",
    "import matplotlib.pyplot as plt"
   ]
  },
  {
   "cell_type": "code",
   "execution_count": 2,
   "metadata": {},
   "outputs": [],
   "source": [
    "import pandas\n",
    "import cassandra\n",
    "import pyspark\n",
    "import re\n",
    "import os\n",
    "import random\n",
    "from random import randint, randrange\n",
    "import matplotlib.pyplot as plt\n",
    "from IPython.display import display, Markdown\n",
    "from pyspark.sql import SparkSession\n",
    "from pyspark.ml.classification import RandomForestClassifier\n",
    "from pyspark.ml.feature import IndexToString, StringIndexer, VectorAssembler\n",
    "from pyspark.ml.evaluation import MulticlassClassificationEvaluator"
   ]
  },
  {
   "cell_type": "markdown",
   "metadata": {},
   "source": [
    "#### Helper function to have nicer formatting of Spark DataFrames"
   ]
  },
  {
   "cell_type": "code",
   "execution_count": 3,
   "metadata": {},
   "outputs": [],
   "source": [
    "#Helper for pretty formatting for Spark DataFrames\n",
    "def showDF(df, limitRows =  5, truncate = True):\n",
    "    if(truncate):\n",
    "        pandas.set_option('display.max_colwidth', 50)\n",
    "    else:\n",
    "        pandas.set_option('display.max_colwidth', -1)\n",
    "    pandas.set_option('display.max_rows', limitRows)\n",
    "    display(df.limit(limitRows).toPandas())\n",
    "    pandas.reset_option('display.max_rows')"
   ]
  },
  {
   "cell_type": "markdown",
   "metadata": {},
   "source": [
    "# DataStax Enterprise Analytics\n",
    "<img src=\"images/dselogo.png\" width=\"400\" height=\"200\">"
   ]
  },
  {
   "cell_type": "markdown",
   "metadata": {},
   "source": [
    "## Creating Tables and Loading Tables"
   ]
  },
  {
   "cell_type": "markdown",
   "metadata": {},
   "source": [
    "### Connect to DSE Analytics Cluster"
   ]
  },
  {
   "cell_type": "code",
   "execution_count": 4,
   "metadata": {},
   "outputs": [],
   "source": [
    "from cassandra.cluster import Cluster\n",
    "\n",
    "cluster = Cluster(['127.0.01'])\n",
    "session = cluster.connect()"
   ]
  },
  {
   "cell_type": "markdown",
   "metadata": {},
   "source": [
    "### Create Demo Keyspace "
   ]
  },
  {
   "cell_type": "code",
   "execution_count": 5,
   "metadata": {},
   "outputs": [
    {
     "data": {
      "text/plain": [
       "<cassandra.cluster.ResultSet at 0x103cebcf8>"
      ]
     },
     "execution_count": 5,
     "metadata": {},
     "output_type": "execute_result"
    }
   ],
   "source": [
    "session.execute(\"\"\"\n",
    "    CREATE KEYSPACE IF NOT EXISTS accelerate \n",
    "    WITH REPLICATION = \n",
    "    { 'class' : 'SimpleStrategy', 'replication_factor' : 1 }\"\"\"\n",
    ")"
   ]
  },
  {
   "cell_type": "markdown",
   "metadata": {},
   "source": [
    "### Set keyspace "
   ]
  },
  {
   "cell_type": "code",
   "execution_count": 6,
   "metadata": {},
   "outputs": [],
   "source": [
    "session.set_keyspace('accelerate')"
   ]
  },
  {
   "cell_type": "markdown",
   "metadata": {},
   "source": [
    "### Create table called `wines`. Our PRIMARY will be a unique key (wineid) we generate for each row.  This will have two datasets \"white\" and \"red\""
   ]
  },
  {
   "cell_type": "code",
   "execution_count": 7,
   "metadata": {},
   "outputs": [
    {
     "data": {
      "text/plain": [
       "<cassandra.cluster.ResultSet at 0x105b54c88>"
      ]
     },
     "execution_count": 7,
     "metadata": {},
     "output_type": "execute_result"
    }
   ],
   "source": [
    "query = \"CREATE TABLE IF NOT EXISTS wines \\\n",
    "                                   (wineid int, fixedAcidity float, volatileAcidity float, citricAcid float, sugar float, \\\n",
    "                                   chlorides float, freeSulfur float, totalSulfur float, density float, ph float, \\\n",
    "                                   sulphates float, alcohol float, quality float, \\\n",
    "                                   PRIMARY KEY (wineid))\"\n",
    "session.execute(query)"
   ]
  },
  {
   "cell_type": "markdown",
   "metadata": {},
   "source": [
    "### What do these of these 12 columns represent: \n",
    "\n",
    "* **Fixed acidity**\n",
    "* **Volatile acidity**\n",
    "* **Citric Acid**\n",
    "* **Residual Sugar** \n",
    "* **Chlorides**\n",
    "* **Free sulfur dioxide**     \n",
    "* **Total sulfur dioxide**\n",
    "* **Density** \n",
    "* **pH**\n",
    "* **Sulphates**\n",
    "* **Alcohol**\n",
    "* **Quality**"
   ]
  },
  {
   "cell_type": "markdown",
   "metadata": {},
   "source": [
    "### Load 2 Wine Dataset -- White and Red\n",
    "<img src=\"images/whiteAndRed.jpeg\" width=\"300\" height=\"300\">"
   ]
  },
  {
   "cell_type": "markdown",
   "metadata": {},
   "source": [
    "### Load Wine datasets from CSV file (winequality-red.csv winequality-white.csv)\n",
    "* No clean up was requried! How nice :)\n",
    "\n",
    "#### Insert all the Wine Data into the DSE table `wines`"
   ]
  },
  {
   "cell_type": "code",
   "execution_count": 8,
   "metadata": {},
   "outputs": [],
   "source": [
    "fileName = 'data/winequality-red.csv'\n",
    "input_file = open(fileName, 'r')\n",
    "i = 1\n",
    "for line in input_file:\n",
    "    wineid = i\n",
    "    row = line.split(';')\n",
    "        \n",
    "    query = \"INSERT INTO wines (wineid, fixedAcidity, volatileAcidity, citricAcid, sugar, \\\n",
    "                               chlorides, freeSulfur, totalSulfur, density, ph, \\\n",
    "                               sulphates, alcohol, quality)\"\n",
    "    query = query + \" VALUES (%s, %s, %s, %s, %s, %s, %s, %s, %s, %s, %s, %s, %s)\"\n",
    "    session.execute(query, (wineid, float(row[0]), float(row[1]), float(row[2]), float(row[3]), float(row[4]), float(row[5]), float(row[6]), float(row[7]), float(row[8]), float(row[9]), float(row[10]), float(row[11])))\n",
    "    i = i + 1\n",
    "\n",
    "fileName = 'data/winequality-white.csv'\n",
    "input_file = open(fileName, 'r')\n",
    "\n",
    "for line in input_file:\n",
    "    wineid = i\n",
    "    row = line.split(';')\n",
    "        \n",
    "    query = \"INSERT INTO wines (wineid, fixedAcidity, volatileAcidity, citricAcid, sugar, \\\n",
    "                               chlorides, freeSulfur, totalSulfur, density, ph, \\\n",
    "                               sulphates, alcohol, quality)\"\n",
    "    query = query + \" VALUES (%s, %s, %s, %s, %s, %s, %s, %s, %s, %s, %s, %s, %s)\"\n",
    "    session.execute(query, (wineid, float(row[0]), float(row[1]), float(row[2]), float(row[3]), float(row[4]), float(row[5]), float(row[6]), float(row[7]), float(row[8]), float(row[9]), float(row[10]), float(row[11])))\n",
    "    i = i + 1\n",
    "    "
   ]
  },
  {
   "cell_type": "markdown",
   "metadata": {},
   "source": [
    "## Machine Learning with DSE Analytics and Apache Spark\n",
    "<img src=\"images/sparklogo.png\" width=\"150\" height=\"200\">"
   ]
  },
  {
   "cell_type": "markdown",
   "metadata": {},
   "source": [
    "#### Create a spark session that is connected to DSE. From there load each table into a Spark Dataframe and take a count of the number of rows in each."
   ]
  },
  {
   "cell_type": "code",
   "execution_count": 9,
   "metadata": {},
   "outputs": [
    {
     "name": "stdout",
     "output_type": "stream",
     "text": [
      "Table Wine Row Count: \n",
      "6497\n"
     ]
    }
   ],
   "source": [
    "spark = SparkSession.builder.appName('demo').master(\"local\").getOrCreate()\n",
    "\n",
    "\n",
    "wineDF = spark.read.format(\"org.apache.spark.sql.cassandra\").options(table=\"wines\", keyspace=\"accelerate\").load()\n",
    "\n",
    "print (\"Table Wine Row Count: \")\n",
    "print (wineDF.count())"
   ]
  },
  {
   "cell_type": "code",
   "execution_count": 10,
   "metadata": {},
   "outputs": [
    {
     "data": {
      "text/html": [
       "<div>\n",
       "<style scoped>\n",
       "    .dataframe tbody tr th:only-of-type {\n",
       "        vertical-align: middle;\n",
       "    }\n",
       "\n",
       "    .dataframe tbody tr th {\n",
       "        vertical-align: top;\n",
       "    }\n",
       "\n",
       "    .dataframe thead th {\n",
       "        text-align: right;\n",
       "    }\n",
       "</style>\n",
       "<table border=\"1\" class=\"dataframe\">\n",
       "  <thead>\n",
       "    <tr style=\"text-align: right;\">\n",
       "      <th></th>\n",
       "      <th>wineid</th>\n",
       "      <th>alcohol</th>\n",
       "      <th>chlorides</th>\n",
       "      <th>citricacid</th>\n",
       "      <th>density</th>\n",
       "      <th>fixedacidity</th>\n",
       "      <th>freesulfur</th>\n",
       "      <th>ph</th>\n",
       "      <th>quality</th>\n",
       "      <th>sugar</th>\n",
       "      <th>sulphates</th>\n",
       "      <th>totalsulfur</th>\n",
       "      <th>volatileacidity</th>\n",
       "    </tr>\n",
       "  </thead>\n",
       "  <tbody>\n",
       "    <tr>\n",
       "      <th>0</th>\n",
       "      <td>5691</td>\n",
       "      <td>10.0</td>\n",
       "      <td>0.057</td>\n",
       "      <td>0.28</td>\n",
       "      <td>0.99425</td>\n",
       "      <td>6.4</td>\n",
       "      <td>21.0</td>\n",
       "      <td>3.26</td>\n",
       "      <td>6.0</td>\n",
       "      <td>7.9</td>\n",
       "      <td>0.36</td>\n",
       "      <td>82.0</td>\n",
       "      <td>0.14</td>\n",
       "    </tr>\n",
       "    <tr>\n",
       "      <th>1</th>\n",
       "      <td>728</td>\n",
       "      <td>9.5</td>\n",
       "      <td>0.067</td>\n",
       "      <td>0.02</td>\n",
       "      <td>0.99700</td>\n",
       "      <td>6.4</td>\n",
       "      <td>4.0</td>\n",
       "      <td>3.46</td>\n",
       "      <td>5.0</td>\n",
       "      <td>1.8</td>\n",
       "      <td>0.68</td>\n",
       "      <td>11.0</td>\n",
       "      <td>0.57</td>\n",
       "    </tr>\n",
       "    <tr>\n",
       "      <th>2</th>\n",
       "      <td>6490</td>\n",
       "      <td>11.8</td>\n",
       "      <td>0.036</td>\n",
       "      <td>0.29</td>\n",
       "      <td>0.98938</td>\n",
       "      <td>6.1</td>\n",
       "      <td>25.0</td>\n",
       "      <td>3.06</td>\n",
       "      <td>6.0</td>\n",
       "      <td>2.2</td>\n",
       "      <td>0.44</td>\n",
       "      <td>100.0</td>\n",
       "      <td>0.34</td>\n",
       "    </tr>\n",
       "    <tr>\n",
       "      <th>3</th>\n",
       "      <td>208</td>\n",
       "      <td>9.3</td>\n",
       "      <td>0.069</td>\n",
       "      <td>0.31</td>\n",
       "      <td>0.99625</td>\n",
       "      <td>7.8</td>\n",
       "      <td>26.0</td>\n",
       "      <td>3.29</td>\n",
       "      <td>5.0</td>\n",
       "      <td>1.8</td>\n",
       "      <td>0.53</td>\n",
       "      <td>120.0</td>\n",
       "      <td>0.57</td>\n",
       "    </tr>\n",
       "    <tr>\n",
       "      <th>4</th>\n",
       "      <td>1939</td>\n",
       "      <td>10.2</td>\n",
       "      <td>0.049</td>\n",
       "      <td>0.35</td>\n",
       "      <td>0.99340</td>\n",
       "      <td>6.6</td>\n",
       "      <td>49.0</td>\n",
       "      <td>3.43</td>\n",
       "      <td>7.0</td>\n",
       "      <td>1.5</td>\n",
       "      <td>0.85</td>\n",
       "      <td>141.0</td>\n",
       "      <td>0.18</td>\n",
       "    </tr>\n",
       "  </tbody>\n",
       "</table>\n",
       "</div>"
      ],
      "text/plain": [
       "   wineid  alcohol  chlorides  citricacid  density  fixedacidity  freesulfur  \\\n",
       "0    5691     10.0      0.057        0.28  0.99425           6.4        21.0   \n",
       "1     728      9.5      0.067        0.02  0.99700           6.4         4.0   \n",
       "2    6490     11.8      0.036        0.29  0.98938           6.1        25.0   \n",
       "3     208      9.3      0.069        0.31  0.99625           7.8        26.0   \n",
       "4    1939     10.2      0.049        0.35  0.99340           6.6        49.0   \n",
       "\n",
       "     ph  quality  sugar  sulphates  totalsulfur  volatileacidity  \n",
       "0  3.26      6.0    7.9       0.36         82.0             0.14  \n",
       "1  3.46      5.0    1.8       0.68         11.0             0.57  \n",
       "2  3.06      6.0    2.2       0.44        100.0             0.34  \n",
       "3  3.29      5.0    1.8       0.53        120.0             0.57  \n",
       "4  3.43      7.0    1.5       0.85        141.0             0.18  "
      ]
     },
     "metadata": {},
     "output_type": "display_data"
    }
   ],
   "source": [
    "showDF(wineDF)"
   ]
  },
  {
   "cell_type": "markdown",
   "metadata": {},
   "source": [
    "#### Let's filter out only wines that have been rated 6.0 or higher and create a new dataframe with that information "
   ]
  },
  {
   "cell_type": "code",
   "execution_count": 11,
   "metadata": {},
   "outputs": [
    {
     "data": {
      "text/html": [
       "<div>\n",
       "<style scoped>\n",
       "    .dataframe tbody tr th:only-of-type {\n",
       "        vertical-align: middle;\n",
       "    }\n",
       "\n",
       "    .dataframe tbody tr th {\n",
       "        vertical-align: top;\n",
       "    }\n",
       "\n",
       "    .dataframe thead th {\n",
       "        text-align: right;\n",
       "    }\n",
       "</style>\n",
       "<table border=\"1\" class=\"dataframe\">\n",
       "  <thead>\n",
       "    <tr style=\"text-align: right;\">\n",
       "      <th></th>\n",
       "      <th>wineid</th>\n",
       "      <th>alcohol</th>\n",
       "      <th>chlorides</th>\n",
       "      <th>citricacid</th>\n",
       "      <th>density</th>\n",
       "      <th>fixedacidity</th>\n",
       "      <th>freesulfur</th>\n",
       "      <th>ph</th>\n",
       "      <th>quality</th>\n",
       "      <th>sugar</th>\n",
       "      <th>sulphates</th>\n",
       "      <th>totalsulfur</th>\n",
       "      <th>volatileacidity</th>\n",
       "    </tr>\n",
       "  </thead>\n",
       "  <tbody>\n",
       "    <tr>\n",
       "      <th>0</th>\n",
       "      <td>3088</td>\n",
       "      <td>9.5</td>\n",
       "      <td>0.044</td>\n",
       "      <td>0.74</td>\n",
       "      <td>0.99720</td>\n",
       "      <td>6.5</td>\n",
       "      <td>68.0</td>\n",
       "      <td>3.18</td>\n",
       "      <td>6.0</td>\n",
       "      <td>13.3</td>\n",
       "      <td>0.54</td>\n",
       "      <td>224.0</td>\n",
       "      <td>0.260</td>\n",
       "    </tr>\n",
       "    <tr>\n",
       "      <th>1</th>\n",
       "      <td>6395</td>\n",
       "      <td>10.7</td>\n",
       "      <td>0.035</td>\n",
       "      <td>0.29</td>\n",
       "      <td>0.99142</td>\n",
       "      <td>6.4</td>\n",
       "      <td>44.0</td>\n",
       "      <td>3.17</td>\n",
       "      <td>7.0</td>\n",
       "      <td>1.1</td>\n",
       "      <td>0.55</td>\n",
       "      <td>140.0</td>\n",
       "      <td>0.105</td>\n",
       "    </tr>\n",
       "    <tr>\n",
       "      <th>2</th>\n",
       "      <td>381</td>\n",
       "      <td>9.4</td>\n",
       "      <td>0.080</td>\n",
       "      <td>0.42</td>\n",
       "      <td>0.99740</td>\n",
       "      <td>8.3</td>\n",
       "      <td>11.0</td>\n",
       "      <td>3.21</td>\n",
       "      <td>6.0</td>\n",
       "      <td>2.0</td>\n",
       "      <td>0.80</td>\n",
       "      <td>27.0</td>\n",
       "      <td>0.260</td>\n",
       "    </tr>\n",
       "    <tr>\n",
       "      <th>3</th>\n",
       "      <td>4529</td>\n",
       "      <td>9.1</td>\n",
       "      <td>0.046</td>\n",
       "      <td>0.29</td>\n",
       "      <td>0.99834</td>\n",
       "      <td>6.6</td>\n",
       "      <td>39.0</td>\n",
       "      <td>3.05</td>\n",
       "      <td>6.0</td>\n",
       "      <td>14.4</td>\n",
       "      <td>0.50</td>\n",
       "      <td>118.0</td>\n",
       "      <td>0.220</td>\n",
       "    </tr>\n",
       "    <tr>\n",
       "      <th>4</th>\n",
       "      <td>4319</td>\n",
       "      <td>10.9</td>\n",
       "      <td>0.029</td>\n",
       "      <td>0.31</td>\n",
       "      <td>0.99276</td>\n",
       "      <td>7.5</td>\n",
       "      <td>53.0</td>\n",
       "      <td>3.03</td>\n",
       "      <td>6.0</td>\n",
       "      <td>6.5</td>\n",
       "      <td>0.38</td>\n",
       "      <td>160.0</td>\n",
       "      <td>0.180</td>\n",
       "    </tr>\n",
       "  </tbody>\n",
       "</table>\n",
       "</div>"
      ],
      "text/plain": [
       "   wineid  alcohol  chlorides  citricacid  density  fixedacidity  freesulfur  \\\n",
       "0    3088      9.5      0.044        0.74  0.99720           6.5        68.0   \n",
       "1    6395     10.7      0.035        0.29  0.99142           6.4        44.0   \n",
       "2     381      9.4      0.080        0.42  0.99740           8.3        11.0   \n",
       "3    4529      9.1      0.046        0.29  0.99834           6.6        39.0   \n",
       "4    4319     10.9      0.029        0.31  0.99276           7.5        53.0   \n",
       "\n",
       "     ph  quality  sugar  sulphates  totalsulfur  volatileacidity  \n",
       "0  3.18      6.0   13.3       0.54        224.0            0.260  \n",
       "1  3.17      7.0    1.1       0.55        140.0            0.105  \n",
       "2  3.21      6.0    2.0       0.80         27.0            0.260  \n",
       "3  3.05      6.0   14.4       0.50        118.0            0.220  \n",
       "4  3.03      6.0    6.5       0.38        160.0            0.180  "
      ]
     },
     "metadata": {},
     "output_type": "display_data"
    }
   ],
   "source": [
    "wine6DF = wineDF.filter(\"quality > 5\")\n",
    "showDF(wine6DF)"
   ]
  },
  {
   "cell_type": "markdown",
   "metadata": {},
   "source": [
    "#### Create Vector with all elements of the wine "
   ]
  },
  {
   "cell_type": "code",
   "execution_count": 12,
   "metadata": {},
   "outputs": [
    {
     "data": {
      "text/html": [
       "<div>\n",
       "<style scoped>\n",
       "    .dataframe tbody tr th:only-of-type {\n",
       "        vertical-align: middle;\n",
       "    }\n",
       "\n",
       "    .dataframe tbody tr th {\n",
       "        vertical-align: top;\n",
       "    }\n",
       "\n",
       "    .dataframe thead th {\n",
       "        text-align: right;\n",
       "    }\n",
       "</style>\n",
       "<table border=\"1\" class=\"dataframe\">\n",
       "  <thead>\n",
       "    <tr style=\"text-align: right;\">\n",
       "      <th></th>\n",
       "      <th>wineid</th>\n",
       "      <th>alcohol</th>\n",
       "      <th>chlorides</th>\n",
       "      <th>citricacid</th>\n",
       "      <th>density</th>\n",
       "      <th>fixedacidity</th>\n",
       "      <th>freesulfur</th>\n",
       "      <th>ph</th>\n",
       "      <th>quality</th>\n",
       "      <th>sugar</th>\n",
       "      <th>sulphates</th>\n",
       "      <th>totalsulfur</th>\n",
       "      <th>volatileacidity</th>\n",
       "      <th>features</th>\n",
       "      <th>label</th>\n",
       "    </tr>\n",
       "  </thead>\n",
       "  <tbody>\n",
       "    <tr>\n",
       "      <th>0</th>\n",
       "      <td>4317</td>\n",
       "      <td>10.8</td>\n",
       "      <td>0.046</td>\n",
       "      <td>0.29</td>\n",
       "      <td>0.99518</td>\n",
       "      <td>6.8</td>\n",
       "      <td>59.0</td>\n",
       "      <td>3.20</td>\n",
       "      <td>6.0</td>\n",
       "      <td>10.4</td>\n",
       "      <td>0.40</td>\n",
       "      <td>143.0</td>\n",
       "      <td>0.16</td>\n",
       "      <td>[10.800000190734863, 0.04600000008940697, 0.28...</td>\n",
       "      <td>0.0</td>\n",
       "    </tr>\n",
       "    <tr>\n",
       "      <th>1</th>\n",
       "      <td>3372</td>\n",
       "      <td>10.9</td>\n",
       "      <td>0.059</td>\n",
       "      <td>0.26</td>\n",
       "      <td>0.99550</td>\n",
       "      <td>7.8</td>\n",
       "      <td>32.0</td>\n",
       "      <td>3.04</td>\n",
       "      <td>6.0</td>\n",
       "      <td>9.5</td>\n",
       "      <td>0.43</td>\n",
       "      <td>178.0</td>\n",
       "      <td>0.40</td>\n",
       "      <td>[10.899999618530273, 0.05900000035762787, 0.25...</td>\n",
       "      <td>0.0</td>\n",
       "    </tr>\n",
       "    <tr>\n",
       "      <th>2</th>\n",
       "      <td>4830</td>\n",
       "      <td>9.4</td>\n",
       "      <td>0.056</td>\n",
       "      <td>0.57</td>\n",
       "      <td>0.99548</td>\n",
       "      <td>6.7</td>\n",
       "      <td>60.0</td>\n",
       "      <td>2.96</td>\n",
       "      <td>6.0</td>\n",
       "      <td>6.6</td>\n",
       "      <td>0.43</td>\n",
       "      <td>150.0</td>\n",
       "      <td>0.13</td>\n",
       "      <td>[9.399999618530273, 0.0560000017285347, 0.5699...</td>\n",
       "      <td>0.0</td>\n",
       "    </tr>\n",
       "    <tr>\n",
       "      <th>3</th>\n",
       "      <td>2731</td>\n",
       "      <td>9.7</td>\n",
       "      <td>0.047</td>\n",
       "      <td>0.34</td>\n",
       "      <td>0.99440</td>\n",
       "      <td>6.9</td>\n",
       "      <td>24.0</td>\n",
       "      <td>3.20</td>\n",
       "      <td>6.0</td>\n",
       "      <td>4.0</td>\n",
       "      <td>0.52</td>\n",
       "      <td>128.0</td>\n",
       "      <td>0.23</td>\n",
       "      <td>[9.699999809265137, 0.04699999839067459, 0.340...</td>\n",
       "      <td>0.0</td>\n",
       "    </tr>\n",
       "    <tr>\n",
       "      <th>4</th>\n",
       "      <td>769</td>\n",
       "      <td>9.7</td>\n",
       "      <td>0.082</td>\n",
       "      <td>0.02</td>\n",
       "      <td>0.99744</td>\n",
       "      <td>7.1</td>\n",
       "      <td>24.0</td>\n",
       "      <td>3.55</td>\n",
       "      <td>6.0</td>\n",
       "      <td>2.3</td>\n",
       "      <td>0.53</td>\n",
       "      <td>94.0</td>\n",
       "      <td>0.59</td>\n",
       "      <td>[9.699999809265137, 0.0820000022649765, 0.0199...</td>\n",
       "      <td>0.0</td>\n",
       "    </tr>\n",
       "  </tbody>\n",
       "</table>\n",
       "</div>"
      ],
      "text/plain": [
       "   wineid  alcohol  chlorides  citricacid  density  fixedacidity  freesulfur  \\\n",
       "0    4317     10.8      0.046        0.29  0.99518           6.8        59.0   \n",
       "1    3372     10.9      0.059        0.26  0.99550           7.8        32.0   \n",
       "2    4830      9.4      0.056        0.57  0.99548           6.7        60.0   \n",
       "3    2731      9.7      0.047        0.34  0.99440           6.9        24.0   \n",
       "4     769      9.7      0.082        0.02  0.99744           7.1        24.0   \n",
       "\n",
       "     ph  quality  sugar  sulphates  totalsulfur  volatileacidity  \\\n",
       "0  3.20      6.0   10.4       0.40        143.0             0.16   \n",
       "1  3.04      6.0    9.5       0.43        178.0             0.40   \n",
       "2  2.96      6.0    6.6       0.43        150.0             0.13   \n",
       "3  3.20      6.0    4.0       0.52        128.0             0.23   \n",
       "4  3.55      6.0    2.3       0.53         94.0             0.59   \n",
       "\n",
       "                                            features  label  \n",
       "0  [10.800000190734863, 0.04600000008940697, 0.28...    0.0  \n",
       "1  [10.899999618530273, 0.05900000035762787, 0.25...    0.0  \n",
       "2  [9.399999618530273, 0.0560000017285347, 0.5699...    0.0  \n",
       "3  [9.699999809265137, 0.04699999839067459, 0.340...    0.0  \n",
       "4  [9.699999809265137, 0.0820000022649765, 0.0199...    0.0  "
      ]
     },
     "metadata": {},
     "output_type": "display_data"
    },
    {
     "name": "stdout",
     "output_type": "stream",
     "text": [
      "4113\n"
     ]
    }
   ],
   "source": [
    "assembler = VectorAssembler(\n",
    "    inputCols=['alcohol', 'chlorides', 'citricacid', 'density', 'fixedacidity', 'ph', 'freesulfur', 'sugar', 'sulphates', 'totalsulfur', 'volatileacidity'],\n",
    "    outputCol='features')\n",
    "\n",
    "trainingData = assembler.transform(wine6DF)\n",
    "\n",
    "labelIndexer = StringIndexer(inputCol=\"quality\", outputCol=\"label\", handleInvalid='keep')\n",
    "trainingData1 = labelIndexer.fit(trainingData).transform(trainingData)\n",
    "\n",
    "showDF(trainingData1)\n",
    "print(trainingData1.count())"
   ]
  },
  {
   "cell_type": "markdown",
   "metadata": {},
   "source": [
    "### We will be training a model with Random Forest, and because of this we need to split up our dataset in to a training and test set. Will split 80/20. "
   ]
  },
  {
   "cell_type": "code",
   "execution_count": 13,
   "metadata": {},
   "outputs": [
    {
     "name": "stdout",
     "output_type": "stream",
     "text": [
      "Train Dataframe Row Count: \n",
      "3359\n",
      "Test Datafram Row Count: \n",
      "752\n"
     ]
    }
   ],
   "source": [
    "# Split the data into train and test\n",
    "splits = trainingData1.randomSplit([0.8, 0.2], 1234)\n",
    "train = splits[0]\n",
    "test = splits[1]\n",
    "\n",
    "print (\"Train Dataframe Row Count: \")\n",
    "print (train.count())\n",
    "print (\"Test Datafram Row Count: \")\n",
    "print (test.count())"
   ]
  },
  {
   "cell_type": "code",
   "execution_count": 14,
   "metadata": {},
   "outputs": [
    {
     "name": "stdout",
     "output_type": "stream",
     "text": [
      "Wed May 15 18:10:26 PDT 2019\r\n"
     ]
    }
   ],
   "source": [
    "!date"
   ]
  },
  {
   "cell_type": "code",
   "execution_count": 15,
   "metadata": {},
   "outputs": [
    {
     "name": "stdout",
     "output_type": "stream",
     "text": [
      "752\n"
     ]
    },
    {
     "data": {
      "text/html": [
       "<div>\n",
       "<style scoped>\n",
       "    .dataframe tbody tr th:only-of-type {\n",
       "        vertical-align: middle;\n",
       "    }\n",
       "\n",
       "    .dataframe tbody tr th {\n",
       "        vertical-align: top;\n",
       "    }\n",
       "\n",
       "    .dataframe thead th {\n",
       "        text-align: right;\n",
       "    }\n",
       "</style>\n",
       "<table border=\"1\" class=\"dataframe\">\n",
       "  <thead>\n",
       "    <tr style=\"text-align: right;\">\n",
       "      <th></th>\n",
       "      <th>wineid</th>\n",
       "      <th>alcohol</th>\n",
       "      <th>chlorides</th>\n",
       "      <th>citricacid</th>\n",
       "      <th>density</th>\n",
       "      <th>fixedacidity</th>\n",
       "      <th>freesulfur</th>\n",
       "      <th>ph</th>\n",
       "      <th>quality</th>\n",
       "      <th>sugar</th>\n",
       "      <th>sulphates</th>\n",
       "      <th>totalsulfur</th>\n",
       "      <th>volatileacidity</th>\n",
       "      <th>features</th>\n",
       "      <th>label</th>\n",
       "      <th>rawPrediction</th>\n",
       "      <th>probability</th>\n",
       "      <th>prediction</th>\n",
       "    </tr>\n",
       "  </thead>\n",
       "  <tbody>\n",
       "    <tr>\n",
       "      <th>0</th>\n",
       "      <td>9</td>\n",
       "      <td>9.5</td>\n",
       "      <td>0.073</td>\n",
       "      <td>0.02</td>\n",
       "      <td>0.9968</td>\n",
       "      <td>7.8</td>\n",
       "      <td>9.0</td>\n",
       "      <td>3.36</td>\n",
       "      <td>7.0</td>\n",
       "      <td>2.0</td>\n",
       "      <td>0.57</td>\n",
       "      <td>18.0</td>\n",
       "      <td>0.58</td>\n",
       "      <td>[9.5, 0.0729999989271164, 0.019999999552965164...</td>\n",
       "      <td>1.0</td>\n",
       "      <td>[9.396850311426318, 0.5508459750593168, 0.0523...</td>\n",
       "      <td>[0.9396850311426318, 0.05508459750593168, 0.00...</td>\n",
       "      <td>0.0</td>\n",
       "    </tr>\n",
       "    <tr>\n",
       "      <th>1</th>\n",
       "      <td>17</td>\n",
       "      <td>10.5</td>\n",
       "      <td>0.092</td>\n",
       "      <td>0.56</td>\n",
       "      <td>0.9969</td>\n",
       "      <td>8.5</td>\n",
       "      <td>35.0</td>\n",
       "      <td>3.30</td>\n",
       "      <td>7.0</td>\n",
       "      <td>1.8</td>\n",
       "      <td>0.75</td>\n",
       "      <td>103.0</td>\n",
       "      <td>0.28</td>\n",
       "      <td>[10.5, 0.09200000017881393, 0.5600000023841858...</td>\n",
       "      <td>1.0</td>\n",
       "      <td>[7.872448026522618, 1.81795063588903, 0.294216...</td>\n",
       "      <td>[0.7872448026522617, 0.18179506358890296, 0.02...</td>\n",
       "      <td>0.0</td>\n",
       "    </tr>\n",
       "    <tr>\n",
       "      <th>2</th>\n",
       "      <td>21</td>\n",
       "      <td>9.4</td>\n",
       "      <td>0.077</td>\n",
       "      <td>0.48</td>\n",
       "      <td>0.9968</td>\n",
       "      <td>8.9</td>\n",
       "      <td>29.0</td>\n",
       "      <td>3.39</td>\n",
       "      <td>6.0</td>\n",
       "      <td>1.8</td>\n",
       "      <td>0.53</td>\n",
       "      <td>60.0</td>\n",
       "      <td>0.22</td>\n",
       "      <td>[9.399999618530273, 0.07699999958276749, 0.479...</td>\n",
       "      <td>0.0</td>\n",
       "      <td>[9.241572488316299, 0.670204601565711, 0.07725...</td>\n",
       "      <td>[0.9241572488316301, 0.06702046015657112, 0.00...</td>\n",
       "      <td>0.0</td>\n",
       "    </tr>\n",
       "    <tr>\n",
       "      <th>3</th>\n",
       "      <td>109</td>\n",
       "      <td>9.6</td>\n",
       "      <td>0.091</td>\n",
       "      <td>0.53</td>\n",
       "      <td>0.9976</td>\n",
       "      <td>8.0</td>\n",
       "      <td>18.0</td>\n",
       "      <td>3.37</td>\n",
       "      <td>6.0</td>\n",
       "      <td>2.5</td>\n",
       "      <td>0.80</td>\n",
       "      <td>80.0</td>\n",
       "      <td>0.33</td>\n",
       "      <td>[9.600000381469727, 0.09099999815225601, 0.529...</td>\n",
       "      <td>0.0</td>\n",
       "      <td>[8.585164908248752, 1.162295200618395, 0.24652...</td>\n",
       "      <td>[0.858516490824875, 0.1162295200618395, 0.0246...</td>\n",
       "      <td>0.0</td>\n",
       "    </tr>\n",
       "    <tr>\n",
       "      <th>4</th>\n",
       "      <td>270</td>\n",
       "      <td>10.1</td>\n",
       "      <td>0.104</td>\n",
       "      <td>0.51</td>\n",
       "      <td>0.9996</td>\n",
       "      <td>11.5</td>\n",
       "      <td>4.0</td>\n",
       "      <td>3.28</td>\n",
       "      <td>6.0</td>\n",
       "      <td>4.0</td>\n",
       "      <td>0.97</td>\n",
       "      <td>23.0</td>\n",
       "      <td>0.18</td>\n",
       "      <td>[10.100000381469727, 0.10400000214576721, 0.50...</td>\n",
       "      <td>0.0</td>\n",
       "      <td>[7.155537932285342, 2.686756186951431, 0.15402...</td>\n",
       "      <td>[0.7155537932285343, 0.26867561869514317, 0.01...</td>\n",
       "      <td>0.0</td>\n",
       "    </tr>\n",
       "  </tbody>\n",
       "</table>\n",
       "</div>"
      ],
      "text/plain": [
       "   wineid  alcohol  chlorides  citricacid  density  fixedacidity  freesulfur  \\\n",
       "0       9      9.5      0.073        0.02   0.9968           7.8         9.0   \n",
       "1      17     10.5      0.092        0.56   0.9969           8.5        35.0   \n",
       "2      21      9.4      0.077        0.48   0.9968           8.9        29.0   \n",
       "3     109      9.6      0.091        0.53   0.9976           8.0        18.0   \n",
       "4     270     10.1      0.104        0.51   0.9996          11.5         4.0   \n",
       "\n",
       "     ph  quality  sugar  sulphates  totalsulfur  volatileacidity  \\\n",
       "0  3.36      7.0    2.0       0.57         18.0             0.58   \n",
       "1  3.30      7.0    1.8       0.75        103.0             0.28   \n",
       "2  3.39      6.0    1.8       0.53         60.0             0.22   \n",
       "3  3.37      6.0    2.5       0.80         80.0             0.33   \n",
       "4  3.28      6.0    4.0       0.97         23.0             0.18   \n",
       "\n",
       "                                            features  label  \\\n",
       "0  [9.5, 0.0729999989271164, 0.019999999552965164...    1.0   \n",
       "1  [10.5, 0.09200000017881393, 0.5600000023841858...    1.0   \n",
       "2  [9.399999618530273, 0.07699999958276749, 0.479...    0.0   \n",
       "3  [9.600000381469727, 0.09099999815225601, 0.529...    0.0   \n",
       "4  [10.100000381469727, 0.10400000214576721, 0.50...    0.0   \n",
       "\n",
       "                                       rawPrediction  \\\n",
       "0  [9.396850311426318, 0.5508459750593168, 0.0523...   \n",
       "1  [7.872448026522618, 1.81795063588903, 0.294216...   \n",
       "2  [9.241572488316299, 0.670204601565711, 0.07725...   \n",
       "3  [8.585164908248752, 1.162295200618395, 0.24652...   \n",
       "4  [7.155537932285342, 2.686756186951431, 0.15402...   \n",
       "\n",
       "                                         probability  prediction  \n",
       "0  [0.9396850311426318, 0.05508459750593168, 0.00...         0.0  \n",
       "1  [0.7872448026522617, 0.18179506358890296, 0.02...         0.0  \n",
       "2  [0.9241572488316301, 0.06702046015657112, 0.00...         0.0  \n",
       "3  [0.858516490824875, 0.1162295200618395, 0.0246...         0.0  \n",
       "4  [0.7155537932285343, 0.26867561869514317, 0.01...         0.0  "
      ]
     },
     "metadata": {},
     "output_type": "display_data"
    }
   ],
   "source": [
    "rf = RandomForestClassifier(labelCol=\"label\", featuresCol=\"features\", numTrees=10)\n",
    "\n",
    "model = rf.fit(train)\n",
    "\n",
    "predictions = model.transform(test)\n",
    "#predictions.show()\n",
    "print (predictions.count())\n",
    "showDF(predictions)"
   ]
  },
  {
   "cell_type": "code",
   "execution_count": 16,
   "metadata": {},
   "outputs": [
    {
     "name": "stdout",
     "output_type": "stream",
     "text": [
      "Wed May 15 18:10:30 PDT 2019\r\n"
     ]
    }
   ],
   "source": [
    "!date"
   ]
  },
  {
   "cell_type": "code",
   "execution_count": 17,
   "metadata": {},
   "outputs": [
    {
     "data": {
      "text/html": [
       "<div>\n",
       "<style scoped>\n",
       "    .dataframe tbody tr th:only-of-type {\n",
       "        vertical-align: middle;\n",
       "    }\n",
       "\n",
       "    .dataframe tbody tr th {\n",
       "        vertical-align: top;\n",
       "    }\n",
       "\n",
       "    .dataframe thead th {\n",
       "        text-align: right;\n",
       "    }\n",
       "</style>\n",
       "<table border=\"1\" class=\"dataframe\">\n",
       "  <thead>\n",
       "    <tr style=\"text-align: right;\">\n",
       "      <th></th>\n",
       "      <th>quality</th>\n",
       "      <th>label</th>\n",
       "      <th>prediction</th>\n",
       "      <th>probability</th>\n",
       "    </tr>\n",
       "  </thead>\n",
       "  <tbody>\n",
       "    <tr>\n",
       "      <th>0</th>\n",
       "      <td>7.0</td>\n",
       "      <td>1.0</td>\n",
       "      <td>0.0</td>\n",
       "      <td>[0.9396850311426318, 0.05508459750593168, 0.00...</td>\n",
       "    </tr>\n",
       "    <tr>\n",
       "      <th>1</th>\n",
       "      <td>7.0</td>\n",
       "      <td>1.0</td>\n",
       "      <td>0.0</td>\n",
       "      <td>[0.7872448026522617, 0.18179506358890296, 0.02...</td>\n",
       "    </tr>\n",
       "    <tr>\n",
       "      <th>2</th>\n",
       "      <td>6.0</td>\n",
       "      <td>0.0</td>\n",
       "      <td>0.0</td>\n",
       "      <td>[0.9241572488316301, 0.06702046015657112, 0.00...</td>\n",
       "    </tr>\n",
       "    <tr>\n",
       "      <th>3</th>\n",
       "      <td>6.0</td>\n",
       "      <td>0.0</td>\n",
       "      <td>0.0</td>\n",
       "      <td>[0.858516490824875, 0.1162295200618395, 0.0246...</td>\n",
       "    </tr>\n",
       "    <tr>\n",
       "      <th>4</th>\n",
       "      <td>6.0</td>\n",
       "      <td>0.0</td>\n",
       "      <td>0.0</td>\n",
       "      <td>[0.7155537932285343, 0.26867561869514317, 0.01...</td>\n",
       "    </tr>\n",
       "  </tbody>\n",
       "</table>\n",
       "</div>"
      ],
      "text/plain": [
       "   quality  label  prediction  \\\n",
       "0      7.0    1.0         0.0   \n",
       "1      7.0    1.0         0.0   \n",
       "2      6.0    0.0         0.0   \n",
       "3      6.0    0.0         0.0   \n",
       "4      6.0    0.0         0.0   \n",
       "\n",
       "                                         probability  \n",
       "0  [0.9396850311426318, 0.05508459750593168, 0.00...  \n",
       "1  [0.7872448026522617, 0.18179506358890296, 0.02...  \n",
       "2  [0.9241572488316301, 0.06702046015657112, 0.00...  \n",
       "3  [0.858516490824875, 0.1162295200618395, 0.0246...  \n",
       "4  [0.7155537932285343, 0.26867561869514317, 0.01...  "
      ]
     },
     "metadata": {},
     "output_type": "display_data"
    }
   ],
   "source": [
    "showDF(predictions.select(\"quality\", \"label\", \"prediction\", \"probability\"))"
   ]
  },
  {
   "cell_type": "markdown",
   "metadata": {},
   "source": [
    "### We can now use the MutliclassClassifciationEvaluator to evalute the accurancy of our predictions. "
   ]
  },
  {
   "cell_type": "code",
   "execution_count": 18,
   "metadata": {},
   "outputs": [
    {
     "name": "stdout",
     "output_type": "stream",
     "text": [
      "Test set accuracy = 0.7286096256684492\n"
     ]
    }
   ],
   "source": [
    "# compute accuracy on the test set\n",
    "evaluator = MulticlassClassificationEvaluator(labelCol=\"label\", predictionCol=\"prediction\",\n",
    "                                              metricName=\"accuracy\")\n",
    "accuracy = evaluator.evaluate(predictions)\n",
    "print(\"Test set accuracy = \" + str(accuracy))"
   ]
  },
  {
   "cell_type": "code",
   "execution_count": 19,
   "metadata": {},
   "outputs": [
    {
     "data": {
      "text/plain": [
       "<cassandra.cluster.ResultSet at 0x100e3ea20>"
      ]
     },
     "execution_count": 19,
     "metadata": {},
     "output_type": "execute_result"
    }
   ],
   "source": [
    "session.execute(\"\"\"drop table wines\"\"\")"
   ]
  },
  {
   "cell_type": "code",
   "execution_count": null,
   "metadata": {},
   "outputs": [],
   "source": []
  }
 ],
 "metadata": {
  "kernelspec": {
   "display_name": "Python 3",
   "language": "python",
   "name": "python3"
  },
  "language_info": {
   "codemirror_mode": {
    "name": "ipython",
    "version": 3
   },
   "file_extension": ".py",
   "mimetype": "text/x-python",
   "name": "python",
   "nbconvert_exporter": "python",
   "pygments_lexer": "ipython3",
   "version": "3.7.0"
  }
 },
 "nbformat": 4,
 "nbformat_minor": 2
}
